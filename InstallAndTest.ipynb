{
 "cells": [
  {
   "cell_type": "markdown",
   "id": "09cdc0c9",
   "metadata": {},
   "source": [
    "# Installation\n",
    "First, we will have to install all the dependencies of the code base and the code base used throughout the workshop as well. This is structured in a python package that you have just cloned from GitHub. `setup.py` includes all the dependencies that we can install with pip. We use the `-e`flag so that we can also change the code inside the package and the changes will be immediately visible when we use the code.\n"
   ]
  },
  {
   "cell_type": "code",
   "execution_count": 1,
   "id": "20039ccd",
   "metadata": {},
   "outputs": [
    {
     "name": "stdout",
     "output_type": "stream",
     "text": [
      "Obtaining file:///C:/Users/David/Desktop/PygameModelling25\n",
      "  Preparing metadata (setup.py): started\n",
      "  Preparing metadata (setup.py): finished with status 'done'\n",
      "Requirement already satisfied: pygame in c:\\users\\david\\appdata\\local\\programs\\python\\python37\\lib\\site-packages (from PyGame-Modelling-Workshop-2025==1.0.0) (2.1.2)\n",
      "Requirement already satisfied: numpy in c:\\users\\david\\appdata\\local\\programs\\python\\python37\\lib\\site-packages (from PyGame-Modelling-Workshop-2025==1.0.0) (1.20.1)Note: you may need to restart the kernel to use updated packages.\n",
      "Requirement already satisfied: scipy in c:\\users\\david\\appdata\\local\\programs\\python\\python37\\lib\\site-packages (from PyGame-Modelling-Workshop-2025==1.0.0) (1.6.0)\n",
      "\n",
      "Requirement already satisfied: matplotlib in c:\\users\\david\\appdata\\local\\programs\\python\\python37\\lib\\site-packages (from PyGame-Modelling-Workshop-2025==1.0.0) (3.4.2)\n",
      "Requirement already satisfied: opencv-python in c:\\users\\david\\appdata\\local\\programs\\python\\python37\\lib\\site-packages (from PyGame-Modelling-Workshop-2025==1.0.0) (4.4.0.46)\n",
      "Requirement already satisfied: h5py in c:\\users\\david\\appdata\\local\\programs\\python\\python37\\lib\\site-packages (from PyGame-Modelling-Workshop-2025==1.0.0) (3.8.0)\n",
      "Requirement already satisfied: cycler>=0.10 in c:\\users\\david\\appdata\\local\\programs\\python\\python37\\lib\\site-packages (from matplotlib->PyGame-Modelling-Workshop-2025==1.0.0) (0.10.0)\n",
      "Requirement already satisfied: kiwisolver>=1.0.1 in c:\\users\\david\\appdata\\local\\programs\\python\\python37\\lib\\site-packages (from matplotlib->PyGame-Modelling-Workshop-2025==1.0.0) (1.3.1)\n",
      "Requirement already satisfied: pillow>=6.2.0 in c:\\users\\david\\appdata\\local\\programs\\python\\python37\\lib\\site-packages (from matplotlib->PyGame-Modelling-Workshop-2025==1.0.0) (8.3.1)\n",
      "Requirement already satisfied: pyparsing>=2.2.1 in c:\\users\\david\\appdata\\local\\programs\\python\\python37\\lib\\site-packages (from matplotlib->PyGame-Modelling-Workshop-2025==1.0.0) (2.4.7)\n",
      "Requirement already satisfied: python-dateutil>=2.7 in c:\\users\\david\\appdata\\local\\programs\\python\\python37\\lib\\site-packages (from matplotlib->PyGame-Modelling-Workshop-2025==1.0.0) (2.8.1)\n",
      "Requirement already satisfied: six in c:\\users\\david\\appdata\\local\\programs\\python\\python37\\lib\\site-packages (from cycler>=0.10->matplotlib->PyGame-Modelling-Workshop-2025==1.0.0) (1.15.0)\n",
      "Installing collected packages: PyGame-Modelling-Workshop-2025\n",
      "  Attempting uninstall: PyGame-Modelling-Workshop-2025\n",
      "    Found existing installation: PyGame-Modelling-Workshop-2025 1.0.0\n",
      "    Uninstalling PyGame-Modelling-Workshop-2025-1.0.0:\n",
      "      Successfully uninstalled PyGame-Modelling-Workshop-2025-1.0.0\n",
      "  Running setup.py develop for PyGame-Modelling-Workshop-2025\n",
      "Successfully installed PyGame-Modelling-Workshop-2025-1.0.0\n"
     ]
    }
   ],
   "source": [
    "%pip install -e ."
   ]
  },
  {
   "cell_type": "markdown",
   "id": "efdb2980",
   "metadata": {},
   "source": [
    "# Test the Installation\n",
    "to test the installation, we can start using the installed python package `pygmodw23` and start a short simulation of randomly moving agents."
   ]
  },
  {
   "cell_type": "code",
   "execution_count": 3,
   "id": "ed4fe3ed",
   "metadata": {},
   "outputs": [
    {
     "name": "stdout",
     "output_type": "stream",
     "text": [
      "Running simulation start method!\n",
      "Starting main simulation loop!\n",
      "Bye bye!\n"
     ]
    },
    {
     "ename": "SystemExit",
     "evalue": "",
     "output_type": "error",
     "traceback": [
      "An exception has occurred, use %tb to see the full traceback.\n",
      "\u001b[1;31mSystemExit\u001b[0m\n"
     ]
    },
    {
     "name": "stderr",
     "output_type": "stream",
     "text": [
      "c:\\users\\david\\appdata\\local\\programs\\python\\python37\\lib\\site-packages\\IPython\\core\\interactiveshell.py:3449: UserWarning: To exit: use 'exit', 'quit', or Ctrl-D.\n",
      "  warn(\"To exit: use 'exit', 'quit', or Ctrl-D.\", stacklevel=1)\n"
     ]
    }
   ],
   "source": [
    "from pygmodw25.sims import Simulation\n",
    "\n",
    "# Creating a short test simulation instance with 15 agents and 150 timestep simulation time\n",
    "test_simulation = Simulation(N=15, T=150)\n",
    "\n",
    "# Start the simulation\n",
    "test_simulation.start()"
   ]
  },
  {
   "cell_type": "markdown",
   "id": "5ecd312d",
   "metadata": {},
   "source": [
    "In case you have seen the simulation window and the agents moving around, you are ready for the workshop! (It can happen that the pygame window will not pop up but will open in the background.)"
   ]
  }
 ],
 "metadata": {
  "kernelspec": {
   "display_name": "Python 3",
   "language": "python",
   "name": "python3"
  },
  "language_info": {
   "codemirror_mode": {
    "name": "ipython",
    "version": 3
   },
   "file_extension": ".py",
   "mimetype": "text/x-python",
   "name": "python",
   "nbconvert_exporter": "python",
   "pygments_lexer": "ipython3",
   "version": "3.7.9"
  }
 },
 "nbformat": 4,
 "nbformat_minor": 5
}
