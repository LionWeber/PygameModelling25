{
 "cells": [
  {
   "cell_type": "markdown",
   "id": "09cdc0c9",
   "metadata": {},
   "source": [
    "# Installation\n",
    "First, we will have to install all the dependencies of the code base and the code base used throughout the workshop as well. This is structured in a python package that you have just cloned from GitHub. `setup.py` includes all the dependencies that we can install with pip. We use the `-e`flag so that we can also change the code inside the package and the changes will be immediately visible when we use the code.\n"
   ]
  },
  {
   "cell_type": "code",
   "execution_count": 1,
   "id": "20039ccd",
   "metadata": {},
   "outputs": [
    {
     "name": "stdout",
     "output_type": "stream",
     "text": [
      "Obtaining file:///home/lion/Documents/study/modelling_collective_behaviour/PygameModelling25\n",
      "  Preparing metadata (setup.py) ... \u001b[?25ldone\n",
      "\u001b[?25hRequirement already satisfied: pygame in /home/lion/miniconda3/envs/collective/lib/python3.9/site-packages (from PyGame-Modelling-Workshop-2025==1.0.0) (2.6.1)\n",
      "Requirement already satisfied: numpy in /home/lion/miniconda3/envs/collective/lib/python3.9/site-packages (from PyGame-Modelling-Workshop-2025==1.0.0) (2.0.2)\n",
      "Requirement already satisfied: scipy in /home/lion/miniconda3/envs/collective/lib/python3.9/site-packages (from PyGame-Modelling-Workshop-2025==1.0.0) (1.13.1)\n",
      "Requirement already satisfied: matplotlib in /home/lion/miniconda3/envs/collective/lib/python3.9/site-packages (from PyGame-Modelling-Workshop-2025==1.0.0) (3.9.4)\n",
      "Requirement already satisfied: opencv-python in /home/lion/miniconda3/envs/collective/lib/python3.9/site-packages (from PyGame-Modelling-Workshop-2025==1.0.0) (4.11.0.86)\n",
      "Requirement already satisfied: h5py in /home/lion/miniconda3/envs/collective/lib/python3.9/site-packages (from PyGame-Modelling-Workshop-2025==1.0.0) (3.14.0)\n",
      "Requirement already satisfied: contourpy>=1.0.1 in /home/lion/miniconda3/envs/collective/lib/python3.9/site-packages (from matplotlib->PyGame-Modelling-Workshop-2025==1.0.0) (1.3.0)\n",
      "Requirement already satisfied: cycler>=0.10 in /home/lion/miniconda3/envs/collective/lib/python3.9/site-packages (from matplotlib->PyGame-Modelling-Workshop-2025==1.0.0) (0.12.1)\n",
      "Requirement already satisfied: fonttools>=4.22.0 in /home/lion/miniconda3/envs/collective/lib/python3.9/site-packages (from matplotlib->PyGame-Modelling-Workshop-2025==1.0.0) (4.58.4)\n",
      "Requirement already satisfied: kiwisolver>=1.3.1 in /home/lion/miniconda3/envs/collective/lib/python3.9/site-packages (from matplotlib->PyGame-Modelling-Workshop-2025==1.0.0) (1.4.7)\n",
      "Requirement already satisfied: packaging>=20.0 in /home/lion/miniconda3/envs/collective/lib/python3.9/site-packages (from matplotlib->PyGame-Modelling-Workshop-2025==1.0.0) (25.0)\n",
      "Requirement already satisfied: pillow>=8 in /home/lion/miniconda3/envs/collective/lib/python3.9/site-packages (from matplotlib->PyGame-Modelling-Workshop-2025==1.0.0) (11.3.0)\n",
      "Requirement already satisfied: pyparsing>=2.3.1 in /home/lion/miniconda3/envs/collective/lib/python3.9/site-packages (from matplotlib->PyGame-Modelling-Workshop-2025==1.0.0) (3.2.3)\n",
      "Requirement already satisfied: python-dateutil>=2.7 in /home/lion/miniconda3/envs/collective/lib/python3.9/site-packages (from matplotlib->PyGame-Modelling-Workshop-2025==1.0.0) (2.9.0.post0)\n",
      "Requirement already satisfied: importlib-resources>=3.2.0 in /home/lion/miniconda3/envs/collective/lib/python3.9/site-packages (from matplotlib->PyGame-Modelling-Workshop-2025==1.0.0) (6.5.2)\n",
      "Requirement already satisfied: zipp>=3.1.0 in /home/lion/miniconda3/envs/collective/lib/python3.9/site-packages (from importlib-resources>=3.2.0->matplotlib->PyGame-Modelling-Workshop-2025==1.0.0) (3.23.0)\n",
      "Requirement already satisfied: six>=1.5 in /home/lion/miniconda3/envs/collective/lib/python3.9/site-packages (from python-dateutil>=2.7->matplotlib->PyGame-Modelling-Workshop-2025==1.0.0) (1.17.0)\n",
      "Installing collected packages: PyGame-Modelling-Workshop-2025\n",
      "  Attempting uninstall: PyGame-Modelling-Workshop-2025\n",
      "    Found existing installation: PyGame-Modelling-Workshop-2025 1.0.0\n",
      "    Uninstalling PyGame-Modelling-Workshop-2025-1.0.0:\n",
      "      Successfully uninstalled PyGame-Modelling-Workshop-2025-1.0.0\n",
      "\u001b[33m  DEPRECATION: Legacy editable install of PyGame-Modelling-Workshop-2025==1.0.0 from file:///home/lion/Documents/study/modelling_collective_behaviour/PygameModelling25 (setup.py develop) is deprecated. pip 25.3 will enforce this behaviour change. A possible replacement is to add a pyproject.toml or enable --use-pep517, and use setuptools >= 64. If the resulting installation is not behaving as expected, try using --config-settings editable_mode=compat. Please consult the setuptools documentation for more information. Discussion can be found at https://github.com/pypa/pip/issues/11457\u001b[0m\u001b[33m\n",
      "\u001b[0m  Running setup.py develop for PyGame-Modelling-Workshop-2025\n",
      "Successfully installed PyGame-Modelling-Workshop-2025\n",
      "Note: you may need to restart the kernel to use updated packages.\n"
     ]
    }
   ],
   "source": [
    "%pip install -e ."
   ]
  },
  {
   "cell_type": "markdown",
   "id": "efdb2980",
   "metadata": {},
   "source": [
    "# Test the Installation\n",
    "to test the installation, we can start using the installed python package `pygmodw23` and start a short simulation of randomly moving agents."
   ]
  },
  {
   "cell_type": "code",
   "execution_count": 2,
   "id": "ed4fe3ed",
   "metadata": {},
   "outputs": [
    {
     "name": "stdout",
     "output_type": "stream",
     "text": [
      "pygame 2.6.1 (SDL 2.28.4, Python 3.9.23)\n",
      "Hello from the pygame community. https://www.pygame.org/contribute.html\n",
      "Running simulation start method!\n",
      "Starting main simulation loop!\n",
      "2025-07-08_10-39-22.640153 Total simulation time:  6.014143\n"
     ]
    }
   ],
   "source": [
    "from pygmodw25.sims import Simulation\n",
    "\n",
    "# Creating a short test simulation instance with 15 agents and 150 timestep simulation time\n",
    "test_simulation = Simulation(N=15, T=150)\n",
    "\n",
    "# Start the simulation\n",
    "test_simulation.start()"
   ]
  },
  {
   "cell_type": "markdown",
   "id": "5ecd312d",
   "metadata": {},
   "source": [
    "In case you have seen the simulation window and the agents moving around, you are ready for the workshop! (It can happen that the pygame window will not pop up but will open in the background.)"
   ]
  }
 ],
 "metadata": {
  "kernelspec": {
   "display_name": "collective",
   "language": "python",
   "name": "python3"
  },
  "language_info": {
   "codemirror_mode": {
    "name": "ipython",
    "version": 3
   },
   "file_extension": ".py",
   "mimetype": "text/x-python",
   "name": "python",
   "nbconvert_exporter": "python",
   "pygments_lexer": "ipython3",
   "version": "3.9.23"
  }
 },
 "nbformat": 4,
 "nbformat_minor": 5
}
