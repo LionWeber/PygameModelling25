{
 "cells": [
  {
   "cell_type": "markdown",
   "id": "09cdc0c9",
   "metadata": {},
   "source": [
    "# Installation\n",
    "First, we will have to install all the dependencies of the code base and the code base used throughout the workshop as well. This is structured in a python package that you have just cloned from GitHub. `setup.py` includes all the dependencies that we can install with pip. We use the `-e`flag so that we can also change the code inside the package and the changes will be immediately visible when we use the code.\n"
   ]
  },
  {
   "cell_type": "code",
   "execution_count": 1,
   "id": "20039ccd",
   "metadata": {},
   "outputs": [
    {
     "name": "stdout",
     "output_type": "stream",
     "text": [
      "Obtaining file:///home/lion/Documents/study/modelling_collective_behaviour/PygameModelling25\n",
      "  Preparing metadata (setup.py) ... \u001b[?25ldone\n",
      "\u001b[?25hCollecting pygame (from PyGame-Modelling-Workshop-2025==1.0.0)\n",
      "  Using cached pygame-2.6.1-cp39-cp39-manylinux_2_17_x86_64.manylinux2014_x86_64.whl.metadata (12 kB)\n",
      "Collecting numpy (from PyGame-Modelling-Workshop-2025==1.0.0)\n",
      "  Using cached numpy-2.0.2-cp39-cp39-manylinux_2_17_x86_64.manylinux2014_x86_64.whl.metadata (60 kB)\n",
      "Collecting scipy (from PyGame-Modelling-Workshop-2025==1.0.0)\n",
      "  Using cached scipy-1.13.1-cp39-cp39-manylinux_2_17_x86_64.manylinux2014_x86_64.whl.metadata (60 kB)\n",
      "Collecting matplotlib (from PyGame-Modelling-Workshop-2025==1.0.0)\n",
      "  Using cached matplotlib-3.9.4-cp39-cp39-manylinux_2_17_x86_64.manylinux2014_x86_64.whl.metadata (11 kB)\n",
      "Collecting opencv-python (from PyGame-Modelling-Workshop-2025==1.0.0)\n",
      "  Using cached opencv_python-4.11.0.86-cp37-abi3-manylinux_2_17_x86_64.manylinux2014_x86_64.whl.metadata (20 kB)\n",
      "Collecting h5py (from PyGame-Modelling-Workshop-2025==1.0.0)\n",
      "  Downloading h5py-3.14.0-cp39-cp39-manylinux_2_17_x86_64.manylinux2014_x86_64.whl.metadata (2.7 kB)\n",
      "Collecting contourpy>=1.0.1 (from matplotlib->PyGame-Modelling-Workshop-2025==1.0.0)\n",
      "  Using cached contourpy-1.3.0-cp39-cp39-manylinux_2_17_x86_64.manylinux2014_x86_64.whl.metadata (5.4 kB)\n",
      "Collecting cycler>=0.10 (from matplotlib->PyGame-Modelling-Workshop-2025==1.0.0)\n",
      "  Using cached cycler-0.12.1-py3-none-any.whl.metadata (3.8 kB)\n",
      "Collecting fonttools>=4.22.0 (from matplotlib->PyGame-Modelling-Workshop-2025==1.0.0)\n",
      "  Downloading fonttools-4.58.4-cp39-cp39-manylinux2014_x86_64.manylinux_2_17_x86_64.whl.metadata (106 kB)\n",
      "Collecting kiwisolver>=1.3.1 (from matplotlib->PyGame-Modelling-Workshop-2025==1.0.0)\n",
      "  Using cached kiwisolver-1.4.7-cp39-cp39-manylinux_2_12_x86_64.manylinux2010_x86_64.whl.metadata (6.3 kB)\n",
      "Requirement already satisfied: packaging>=20.0 in /home/lion/miniconda3/envs/collective/lib/python3.9/site-packages (from matplotlib->PyGame-Modelling-Workshop-2025==1.0.0) (25.0)\n",
      "Collecting pillow>=8 (from matplotlib->PyGame-Modelling-Workshop-2025==1.0.0)\n",
      "  Downloading pillow-11.3.0-cp39-cp39-manylinux_2_27_x86_64.manylinux_2_28_x86_64.whl.metadata (9.0 kB)\n",
      "Collecting pyparsing>=2.3.1 (from matplotlib->PyGame-Modelling-Workshop-2025==1.0.0)\n",
      "  Using cached pyparsing-3.2.3-py3-none-any.whl.metadata (5.0 kB)\n",
      "Requirement already satisfied: python-dateutil>=2.7 in /home/lion/miniconda3/envs/collective/lib/python3.9/site-packages (from matplotlib->PyGame-Modelling-Workshop-2025==1.0.0) (2.9.0.post0)\n",
      "Collecting importlib-resources>=3.2.0 (from matplotlib->PyGame-Modelling-Workshop-2025==1.0.0)\n",
      "  Using cached importlib_resources-6.5.2-py3-none-any.whl.metadata (3.9 kB)\n",
      "Requirement already satisfied: zipp>=3.1.0 in /home/lion/miniconda3/envs/collective/lib/python3.9/site-packages (from importlib-resources>=3.2.0->matplotlib->PyGame-Modelling-Workshop-2025==1.0.0) (3.23.0)\n",
      "Requirement already satisfied: six>=1.5 in /home/lion/miniconda3/envs/collective/lib/python3.9/site-packages (from python-dateutil>=2.7->matplotlib->PyGame-Modelling-Workshop-2025==1.0.0) (1.17.0)\n",
      "Downloading h5py-3.14.0-cp39-cp39-manylinux_2_17_x86_64.manylinux2014_x86_64.whl (4.6 MB)\n",
      "\u001b[2K   \u001b[38;2;114;156;31m━━━━━━━━━━━━━━━━━━━━━━━━━━━━━━━━━━━━━━━━\u001b[0m \u001b[32m4.6/4.6 MB\u001b[0m \u001b[31m14.3 MB/s\u001b[0m eta \u001b[36m0:00:00\u001b[0m31m14.1 MB/s\u001b[0m eta \u001b[36m0:00:01\u001b[0m\n",
      "\u001b[?25hUsing cached numpy-2.0.2-cp39-cp39-manylinux_2_17_x86_64.manylinux2014_x86_64.whl (19.5 MB)\n",
      "Downloading matplotlib-3.9.4-cp39-cp39-manylinux_2_17_x86_64.manylinux2014_x86_64.whl (8.3 MB)\n",
      "\u001b[2K   \u001b[38;2;114;156;31m━━━━━━━━━━━━━━━━━━━━━━━━━━━━━━━━━━━━━━━━\u001b[0m \u001b[32m8.3/8.3 MB\u001b[0m \u001b[31m22.0 MB/s\u001b[0m eta \u001b[36m0:00:00\u001b[0m MB/s\u001b[0m eta \u001b[36m0:00:01\u001b[0m\n",
      "\u001b[?25hDownloading contourpy-1.3.0-cp39-cp39-manylinux_2_17_x86_64.manylinux2014_x86_64.whl (321 kB)\n",
      "Downloading cycler-0.12.1-py3-none-any.whl (8.3 kB)\n",
      "Downloading fonttools-4.58.4-cp39-cp39-manylinux2014_x86_64.manylinux_2_17_x86_64.whl (4.7 MB)\n",
      "\u001b[2K   \u001b[38;2;114;156;31m━━━━━━━━━━━━━━━━━━━━━━━━━━━━━━━━━━━━━━━━\u001b[0m \u001b[32m4.7/4.7 MB\u001b[0m \u001b[31m21.4 MB/s\u001b[0m eta \u001b[36m0:00:00\u001b[0mm eta \u001b[36m0:00:01\u001b[0m\n",
      "\u001b[?25hDownloading importlib_resources-6.5.2-py3-none-any.whl (37 kB)\n",
      "Downloading kiwisolver-1.4.7-cp39-cp39-manylinux_2_12_x86_64.manylinux2010_x86_64.whl (1.6 MB)\n",
      "\u001b[2K   \u001b[38;2;114;156;31m━━━━━━━━━━━━━━━━━━━━━━━━━━━━━━━━━━━━━━━━\u001b[0m \u001b[32m1.6/1.6 MB\u001b[0m \u001b[31m28.0 MB/s\u001b[0m eta \u001b[36m0:00:00\u001b[0m\n",
      "\u001b[?25hDownloading pillow-11.3.0-cp39-cp39-manylinux_2_27_x86_64.manylinux_2_28_x86_64.whl (6.6 MB)\n",
      "\u001b[2K   \u001b[38;2;114;156;31m━━━━━━━━━━━━━━━━━━━━━━━━━━━━━━━━━━━━━━━━\u001b[0m \u001b[32m6.6/6.6 MB\u001b[0m \u001b[31m28.7 MB/s\u001b[0m eta \u001b[36m0:00:00\u001b[0m31m31.7 MB/s\u001b[0m eta \u001b[36m0:00:01\u001b[0m\n",
      "\u001b[?25hDownloading pyparsing-3.2.3-py3-none-any.whl (111 kB)\n",
      "Downloading opencv_python-4.11.0.86-cp37-abi3-manylinux_2_17_x86_64.manylinux2014_x86_64.whl (63.0 MB)\n",
      "\u001b[2K   \u001b[38;2;114;156;31m━━━━━━━━━━━━━━━━━━━━━━━━━━━━━━━━━━━━━━━━\u001b[0m \u001b[32m63.0/63.0 MB\u001b[0m \u001b[31m29.6 MB/s\u001b[0m eta \u001b[36m0:00:00\u001b[0m[36m0:00:01\u001b[0m[36m0:00:01\u001b[0m:01\u001b[0m\n",
      "\u001b[?25hDownloading pygame-2.6.1-cp39-cp39-manylinux_2_17_x86_64.manylinux2014_x86_64.whl (14.0 MB)\n",
      "\u001b[2K   \u001b[38;2;114;156;31m━━━━━━━━━━━━━━━━━━━━━━━━━━━━━━━━━━━━━━━━\u001b[0m \u001b[32m14.0/14.0 MB\u001b[0m \u001b[31m28.0 MB/s\u001b[0m eta \u001b[36m0:00:00\u001b[0m31m30.7 MB/s\u001b[0m eta \u001b[36m0:00:01\u001b[0m\n",
      "\u001b[?25hUsing cached scipy-1.13.1-cp39-cp39-manylinux_2_17_x86_64.manylinux2014_x86_64.whl (38.6 MB)\n",
      "Installing collected packages: pyparsing, pygame, pillow, numpy, kiwisolver, importlib-resources, fonttools, cycler, scipy, opencv-python, h5py, contourpy, matplotlib, PyGame-Modelling-Workshop-2025\n",
      "\u001b[2K   \u001b[38;2;249;38;114m━━━━━━━━━━━━━━━━━━━━━━━━━━━━━━━━━━\u001b[0m\u001b[38;5;237m╺\u001b[0m\u001b[38;5;237m━━━━━\u001b[0m \u001b[32m12/14\u001b[0m [matplotlib]]v-python]\u001b[33m  DEPRECATION: Legacy editable install of PyGame-Modelling-Workshop-2025==1.0.0 from file:///home/lion/Documents/study/modelling_collective_behaviour/PygameModelling25 (setup.py develop) is deprecated. pip 25.3 will enforce this behaviour change. A possible replacement is to add a pyproject.toml or enable --use-pep517, and use setuptools >= 64. If the resulting installation is not behaving as expected, try using --config-settings editable_mode=compat. Please consult the setuptools documentation for more information. Discussion can be found at https://github.com/pypa/pip/issues/11457\u001b[0m\u001b[33m\n",
      "\u001b[2K  Running setup.py develop for PyGame-Modelling-Workshop-2025\n",
      "\u001b[2K   \u001b[38;2;114;156;31m━━━━━━━━━━━━━━━━━━━━━━━━━━━━━━━━━━━━━━\u001b[0m \u001b[32m14/14\u001b[0m [PyGame-Modelling-Workshop-2025]yGame-Modelling-Workshop-2025]\n",
      "\u001b[1A\u001b[2KSuccessfully installed PyGame-Modelling-Workshop-2025 contourpy-1.3.0 cycler-0.12.1 fonttools-4.58.4 h5py-3.14.0 importlib-resources-6.5.2 kiwisolver-1.4.7 matplotlib-3.9.4 numpy-2.0.2 opencv-python-4.11.0.86 pillow-11.3.0 pygame-2.6.1 pyparsing-3.2.3 scipy-1.13.1\n",
      "Note: you may need to restart the kernel to use updated packages.\n"
     ]
    }
   ],
   "source": [
    "%pip install -e ."
   ]
  },
  {
   "cell_type": "markdown",
   "id": "efdb2980",
   "metadata": {},
   "source": [
    "# Test the Installation\n",
    "to test the installation, we can start using the installed python package `pygmodw23` and start a short simulation of randomly moving agents."
   ]
  },
  {
   "cell_type": "code",
   "execution_count": 2,
   "id": "ed4fe3ed",
   "metadata": {},
   "outputs": [
    {
     "name": "stdout",
     "output_type": "stream",
     "text": [
      "pygame 2.6.1 (SDL 2.28.4, Python 3.9.23)\n",
      "Hello from the pygame community. https://www.pygame.org/contribute.html\n",
      "Running simulation start method!\n",
      "Starting main simulation loop!\n",
      "2025-07-02_13-02-37.669837 Total simulation time:  6.009211\n"
     ]
    }
   ],
   "source": [
    "from pygmodw25.sims import Simulation\n",
    "\n",
    "# Creating a short test simulation instance with 15 agents and 150 timestep simulation time\n",
    "test_simulation = Simulation(N=15, T=150)\n",
    "\n",
    "# Start the simulation\n",
    "test_simulation.start()"
   ]
  },
  {
   "cell_type": "markdown",
   "id": "5ecd312d",
   "metadata": {},
   "source": [
    "In case you have seen the simulation window and the agents moving around, you are ready for the workshop! (It can happen that the pygame window will not pop up but will open in the background.)"
   ]
  }
 ],
 "metadata": {
  "kernelspec": {
   "display_name": "Python 3",
   "language": "python",
   "name": "python3"
  },
  "language_info": {
   "codemirror_mode": {
    "name": "ipython",
    "version": 3
   },
   "file_extension": ".py",
   "mimetype": "text/x-python",
   "name": "python",
   "nbconvert_exporter": "python",
   "pygments_lexer": "ipython3",
   "version": "3.9.23"
  }
 },
 "nbformat": 4,
 "nbformat_minor": 5
}
